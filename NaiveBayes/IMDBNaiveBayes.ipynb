{
  "nbformat": 4,
  "nbformat_minor": 0,
  "metadata": {
    "colab": {
      "name": "IMDBNaiveBayes.ipynb",
      "provenance": [],
      "collapsed_sections": []
    },
    "kernelspec": {
      "name": "python3",
      "display_name": "Python 3"
    },
    "language_info": {
      "name": "python"
    }
  },
  "cells": [
    {
      "cell_type": "code",
      "metadata": {
        "colab": {
          "base_uri": "https://localhost:8080/"
        },
        "id": "jSfSp97whsfc",
        "outputId": "c0d1312d-d22a-486e-e7c5-4011df634bcc"
      },
      "source": [
        "from google.colab import drive\n",
        "drive.mount('/content/gdrive')"
      ],
      "execution_count": 22,
      "outputs": [
        {
          "output_type": "stream",
          "text": [
            "Drive already mounted at /content/gdrive; to attempt to forcibly remount, call drive.mount(\"/content/gdrive\", force_remount=True).\n"
          ],
          "name": "stdout"
        }
      ]
    },
    {
      "cell_type": "code",
      "metadata": {
        "id": "DE3LSmLJaPmc"
      },
      "source": [
        "\n",
        "import numpy as np \n",
        "import pandas as pd\n",
        "import seaborn as sns\n",
        "import os\n",
        "import re\n",
        "from sklearn.model_selection import train_test_split\n",
        "from keras.preprocessing.text import Tokenizer\n",
        "from keras.preprocessing.sequence import pad_sequences\n",
        "from keras.models import Sequential\n",
        "from keras.layers.embeddings import Embedding\n",
        "from keras.layers import Flatten\n",
        "from keras.layers.core import Activation, Dropout, Dense\n",
        "\n",
        "from time import time\n",
        "from sklearn.feature_extraction.text import TfidfVectorizer, CountVectorizer\n",
        "from sklearn.naive_bayes import BernoulliNB, MultinomialNB\n",
        "from sklearn.naive_bayes import GaussianNB\n",
        "from sklearn import metrics\n",
        "df = pd.read_csv(\"/content/gdrive/My Drive/Machine learning/IMDB.csv\")"
      ],
      "execution_count": 23,
      "outputs": []
    },
    {
      "cell_type": "code",
      "metadata": {
        "colab": {
          "base_uri": "https://localhost:8080/",
          "height": 531
        },
        "id": "J5MgiXtPf60t",
        "outputId": "178674fd-387d-407b-eddb-ee0710201f13"
      },
      "source": [
        "#df['split'] = np.random.randn(df.shape[0],1)   # them cot split co gia tri theo pp chuan, df.shape[0] = 50000\n",
        "print (df)\n",
        "sns.countplot(x='sentiment', data=df)"
      ],
      "execution_count": 24,
      "outputs": [
        {
          "output_type": "stream",
          "text": [
            "                                                  review sentiment\n",
            "0      One of the other reviewers has mentioned that ...  positive\n",
            "1      A wonderful little production. <br /><br />The...  positive\n",
            "2      I thought this was a wonderful way to spend ti...  positive\n",
            "3      Basically there's a family where a little boy ...  negative\n",
            "4      Petter Mattei's \"Love in the Time of Money\" is...  positive\n",
            "...                                                  ...       ...\n",
            "49995  I thought this movie did a down right good job...  positive\n",
            "49996  Bad plot, bad dialogue, bad acting, idiotic di...  negative\n",
            "49997  I am a Catholic taught in parochial elementary...  negative\n",
            "49998  I'm going to have to disagree with the previou...  negative\n",
            "49999  No one expects the Star Trek movies to be high...  negative\n",
            "\n",
            "[50000 rows x 2 columns]\n"
          ],
          "name": "stdout"
        },
        {
          "output_type": "execute_result",
          "data": {
            "text/plain": [
              "<matplotlib.axes._subplots.AxesSubplot at 0x7fbfc44fa150>"
            ]
          },
          "metadata": {
            "tags": []
          },
          "execution_count": 24
        },
        {
          "output_type": "display_data",
          "data": {
            "image/png": "[encoded data removed]",
            "text/plain": [
              "<Figure size 432x288 with 1 Axes>"
            ]
          },
          "metadata": {
            "tags": [],
            "needs_background": "light"
          }
        }
      ]
    },
    {
      "cell_type": "code",
      "metadata": {
        "colab": {
          "base_uri": "https://localhost:8080/"
        },
        "id": "gKp66krFe2UI",
        "outputId": "cf2e16fe-1b4e-481f-e9da-05db24db50a8"
      },
      "source": [
        "#Preprocessing\n",
        "def preprocess_text(sen):\n",
        "  # Xoa the html\n",
        "  sentence = remove_tags(sen)\n",
        "\n",
        "  # Xoa dau cau va so\n",
        "  sentence = re.sub('[^a-zA-Z]', ' ', sentence)\n",
        "\n",
        "  # Xoa ki tu don\n",
        "  sentence = re.sub(r\"\\s+[a-zA-Z]\\s+\", ' ', sentence)\n",
        "\n",
        "  # Xoa nhieu space\n",
        "  sentence = re.sub(r'\\s+', ' ', sentence)\n",
        "\n",
        "  return sentence\n",
        "\n",
        "tag_re = re.compile(r'<[^>]+>')\n",
        "def remove_tags(text):\n",
        "  return tag_re.sub('', text) \n",
        "\n",
        "x = []  # x[i] chua 1 cmt da duoc tien xu ly\n",
        "sentences = list(df['review'])\n",
        "for sen in sentences:\n",
        "  x.append(preprocess_text(sen))\n",
        "#print (x[3])\n",
        "\n",
        "# Chuyen doi label: positive->1, negative->0\n",
        "y = df['sentiment']\n",
        "y = np.array(list(map(lambda x: 1 if x==\"positive\" else 0, y)))   # y[i] chua label duoc chuyen dang so 0,1\n",
        "\n",
        "# Chia dataset thanh training set and testing set\n",
        "x_train,x_test,y_train,y_test = train_test_split(x, y, test_size = 0.5, random_state = 42)\n",
        "print(x_train[1])\n",
        "print(y_train)"
      ],
      "execution_count": 25,
      "outputs": [
        {
          "output_type": "stream",
          "text": [
            "Wow here it finally is the action movie without action In real low budget setting don miss the hilarious flying saucers flying by few times of future Seattle we find no brain hardbody seeking to avenge her childhood There is nothing even remotely original or interesting about the plot and the actors performance is only rivalled in stupidity by the attempts to steal from other movies mainly Matrix without having the money to do it right Yes we do get to see some running on walls and slow motion shoot outs secs approx but these scenes are about as cool as the stupid hardbody attempts at making jokes about male incompetence now and then And yes we are also served number of leads that lead absolutely nowhere as if the script was thought out by the previously unseen cast while shooting the scenes Believe me it is as bad as it possibly can get In fact it doesn deserve to be taken seriously but perhaps can make some of you not rent it and save your money \n",
            "[0 0 1 ... 0 1 1]\n"
          ],
          "name": "stdout"
        }
      ]
    },
    {
      "cell_type": "code",
      "metadata": {
        "colab": {
          "base_uri": "https://localhost:8080/"
        },
        "id": "pyEuHW5Onc1r",
        "outputId": "3be04665-2cc2-4276-e261-3757186fc98b"
      },
      "source": [
        "t = time()\n",
        "tfidf_vectorizer = TfidfVectorizer()\n",
        "x_train_tfidf = tfidf_vectorizer.fit_transform(x_train)\n",
        "duration = time() - t\n",
        "print(\"Time taken to extract features from training data : %f seconds\" % (duration))\n",
        "print(\"n_samples: %d, n_features: %d\" % x_train_tfidf.shape)"
      ],
      "execution_count": 26,
      "outputs": [
        {
          "output_type": "stream",
          "text": [
            "Time taken to extract features from training data : 4.076116 seconds\n",
            "n_samples: 25000, n_features: 76004\n"
          ],
          "name": "stdout"
        }
      ]
    },
    {
      "cell_type": "code",
      "metadata": {
        "colab": {
          "base_uri": "https://localhost:8080/"
        },
        "id": "ZbINumVIpKqD",
        "outputId": "b86670fb-578f-428b-a0dc-4e8179150100"
      },
      "source": [
        "t = time()\n",
        "x_test_tfidf = tfidf_vectorizer.transform(x_test)\n",
        "duration = time() - t\n",
        "print(\"Time taken to extract features from test data : %f seconds\" % (duration))\n",
        "print(\"n_samples: %d, n_features: %d\" % x_test_tfidf.shape)"
      ],
      "execution_count": 27,
      "outputs": [
        {
          "output_type": "stream",
          "text": [
            "Time taken to extract features from test data : 4.197620 seconds\n",
            "n_samples: 25000, n_features: 76004\n"
          ],
          "name": "stdout"
        }
      ]
    },
    {
      "cell_type": "code",
      "metadata": {
        "id": "pDA_grQVq_qb",
        "colab": {
          "base_uri": "https://localhost:8080/"
        },
        "outputId": "8e8f361b-f767-47ea-f2ca-4f021d2657de"
      },
      "source": [
        "# build naive bayes classification model\n",
        "t = time()\n",
        "naive_bayes_classifier = MultinomialNB()\n",
        "\n",
        "naive_bayes_classifier.fit(x_train_tfidf, y_train)\n",
        "\n",
        "training_time = time() - t\n",
        "print(\"train time: %0.3fs\" % training_time)"
      ],
      "execution_count": 28,
      "outputs": [
        {
          "output_type": "stream",
          "text": [
            "train time: 0.036s\n"
          ],
          "name": "stdout"
        }
      ]
    },
    {
      "cell_type": "code",
      "metadata": {
        "id": "T3geMlYCrE8q",
        "colab": {
          "base_uri": "https://localhost:8080/"
        },
        "outputId": "89ce8306-2d11-4a73-c35e-d19c3839df45"
      },
      "source": [
        "# predict the new document from the testing dataset\n",
        "t = time()\n",
        "y_pred = naive_bayes_classifier.predict(x_test_tfidf)\n",
        "\n",
        "test_time = time() - t\n",
        "print(\"test time:  %0.3fs\" % test_time)\n",
        "\n",
        "# compute the performance measures\n",
        "score1 = metrics.accuracy_score(y_test, y_pred)\n",
        "print(\"accuracy:   %0.5f\" % score1)\n",
        "\n",
        "print(metrics.classification_report(y_test, y_pred,\n",
        "                                            target_names=['Positive', 'Negative']))\n",
        "\n",
        "print(\"confusion matrix:\")\n",
        "print(metrics.confusion_matrix(y_test, y_pred))\n",
        "\n",
        "print('------------------------------')"
      ],
      "execution_count": 29,
      "outputs": [
        {
          "output_type": "stream",
          "text": [
            "test time:  0.025s\n",
            "accuracy:   0.86052\n",
            "              precision    recall  f1-score   support\n",
            "\n",
            "    Positive       0.84      0.89      0.86     12483\n",
            "    Negative       0.88      0.83      0.86     12517\n",
            "\n",
            "    accuracy                           0.86     25000\n",
            "   macro avg       0.86      0.86      0.86     25000\n",
            "weighted avg       0.86      0.86      0.86     25000\n",
            "\n",
            "confusion matrix:\n",
            "[[11063  1420]\n",
            " [ 2067 10450]]\n",
            "------------------------------\n"
          ],
          "name": "stdout"
        }
      ]
    }
  ]
}